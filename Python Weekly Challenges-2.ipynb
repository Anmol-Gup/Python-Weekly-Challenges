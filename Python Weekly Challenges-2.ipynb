{
 "cells": [
  {
   "cell_type": "markdown",
   "id": "1d4bd75e",
   "metadata": {},
   "source": [
    "# Python Week 21"
   ]
  },
  {
   "cell_type": "code",
   "execution_count": 3,
   "id": "ef826052",
   "metadata": {},
   "outputs": [
    {
     "name": "stdout",
     "output_type": "stream",
     "text": [
      "2\n",
      "1\n",
      "0\n"
     ]
    }
   ],
   "source": [
    "#Write a function called single_letter_count. This function takes in two parameters (two strings). \n",
    "#The first parameter should be a word and the second should be a letter. The function returns the number of times \n",
    "#that letter appears in the word. The function should be case insensitive (does not matter if the input is lowercase \n",
    "#or uppercase). If the letter is not found in the word, the function should return 0.\n",
    "\n",
    "def single_letter_count(word,letter):\n",
    "    word=word.lower()\n",
    "    letter=letter.lower()\n",
    "    \n",
    "    if letter not in word:\n",
    "        return 0\n",
    "    else:\n",
    "        return word.count(letter)\n",
    "    \n",
    "print(single_letter_count(\"hello\",'l'))\n",
    "print(single_letter_count(\"python\",'P'))\n",
    "print(single_letter_count(\"java\",'i'))\n"
   ]
  },
  {
   "cell_type": "markdown",
   "id": "ce10ea15",
   "metadata": {},
   "source": [
    "# Python Week 22"
   ]
  },
  {
   "cell_type": "code",
   "execution_count": 5,
   "id": "e0051ed1",
   "metadata": {},
   "outputs": [
    {
     "name": "stdout",
     "output_type": "stream",
     "text": [
      "True\n",
      "False\n",
      "True\n",
      "True\n",
      "False\n"
     ]
    }
   ],
   "source": [
    "#Define a function contains_blue() that accepts any number of arguments. \n",
    "#It should return True if any of the arguments are “blue” (all lowercase). Otherwise, it should return False .\n",
    "\n",
    "def contains_blue(*args):\n",
    "    return \"blue\" in args\n",
    "        \n",
    "print(contains_blue(25, 'blue'))\n",
    "print(contains_blue('green', False, 37, 'purple', 'hello world'))\n",
    "print(contains_blue('a', 99, 'blah blah blah', 1, True, False, 'blue'))\n",
    "print(contains_blue(\"blue\"))\n",
    "print(contains_blue(1,2,3))"
   ]
  },
  {
   "cell_type": "markdown",
   "id": "9d1d7a32",
   "metadata": {},
   "source": [
    "# Python Week 23"
   ]
  },
  {
   "cell_type": "code",
   "execution_count": 7,
   "id": "f551f338",
   "metadata": {},
   "outputs": [
    {
     "name": "stdout",
     "output_type": "stream",
     "text": [
      "{'name': 'Bruce', 'job': 'Batman', 'city': 'Gotham'}\n"
     ]
    }
   ],
   "source": [
    "#Given a person variable:\n",
    "# person = [[“name”, “Bruce”], [“job”, “Batman”], [“city”, “Gotham”]]\n",
    "# Create a dictionary called answer , that makes each first item in each list a key and the second item a corresponding value. This is the end goal:\n",
    "# {‘name’: ‘Bruce’, ‘job’: ‘Batman’, ‘city’: ‘Gotham’}\n",
    "\n",
    "person = [['name', 'Bruce'], ['job', 'Batman'], ['city', 'Gotham']]\n",
    "answer={}\n",
    "\n",
    "for i in person:\n",
    "    answer[i[0]]=i[1]\n",
    "    \n",
    "print(answer)"
   ]
  },
  {
   "cell_type": "markdown",
   "id": "a0e16353",
   "metadata": {},
   "source": [
    "# Python Week 24"
   ]
  },
  {
   "cell_type": "code",
   "execution_count": 8,
   "id": "090a162c",
   "metadata": {},
   "outputs": [
    {
     "name": "stdout",
     "output_type": "stream",
     "text": [
      "GO AWAY!\n",
      "LEAVE ME ALONE!\n"
     ]
    }
   ],
   "source": [
    "#Create a function, yell, which accepts a single string argument. \n",
    "#It should return(not print) an uppercased version of the string with an exclamation point added at the end.\n",
    "\n",
    "def yell(s):\n",
    "    return s.upper()+'!'\n",
    "\n",
    "print(yell('go away')) \n",
    "print(yell('leave me alone'))"
   ]
  },
  {
   "cell_type": "markdown",
   "id": "5c044ad4",
   "metadata": {},
   "source": [
    "# Python Week 25"
   ]
  },
  {
   "cell_type": "code",
   "execution_count": 9,
   "id": "1d4a2788",
   "metadata": {},
   "outputs": [
    {
     "name": "stdout",
     "output_type": "stream",
     "text": [
      "True\n",
      "False\n"
     ]
    }
   ],
   "source": [
    "#Write a function named only_ints that takes two parameters. Your function should return True if both parameters are integers,\n",
    "#and False otherwise.\n",
    "\n",
    "def only_ints(a,b):\n",
    "    return isinstance(a,int) and isinstance(b,int)\n",
    "\n",
    "print(only_ints(1,2))\n",
    "print(only_ints(1,'1'))"
   ]
  },
  {
   "cell_type": "markdown",
   "id": "4d8b7bb2",
   "metadata": {},
   "source": [
    "# Python Week 26"
   ]
  },
  {
   "cell_type": "code",
   "execution_count": 10,
   "id": "2f98703e",
   "metadata": {},
   "outputs": [
    {
     "name": "stdout",
     "output_type": "stream",
     "text": [
      "{'a': 97, 'b': 98, 'c': 99}\n",
      "{'^': 94}\n",
      "{}\n"
     ]
    }
   ],
   "source": [
    "#Write a function that transforms a list of characters into a list of dictionaries, where: The keys are the characters \n",
    "#themselves. The values are the ASCII codes of those characters.\n",
    "\n",
    "def get_ascii_dict(l):\n",
    "    d={}\n",
    "    for i in l:\n",
    "       d[i]=ord(i)\n",
    "    \n",
    "    return d\n",
    "\n",
    "print(get_ascii_dict(['a','b','c']))\n",
    "print(get_ascii_dict(['^']))\n",
    "print(get_ascii_dict([]))\n"
   ]
  },
  {
   "cell_type": "markdown",
   "id": "acbc6877",
   "metadata": {},
   "source": [
    "# Python Week 27"
   ]
  },
  {
   "cell_type": "code",
   "execution_count": 13,
   "id": "06c59350",
   "metadata": {},
   "outputs": [
    {
     "name": "stdout",
     "output_type": "stream",
     "text": [
      "[1, 2, 3, 4]\n",
      "[66, 11, 8, 7]\n",
      "None\n"
     ]
    }
   ],
   "source": [
    "# Create a function that takes a list of numbers and a string and return a list of numbers as per the following rules:\n",
    "# “Asc” returns a sorted list in ascending order.\n",
    "# “Des” returns a sorted list in descending order.\n",
    "# “None” returns a list without any modification.\n",
    "\n",
    "def asc_des_none(l,s):\n",
    "    if s==\"Des\":\n",
    "        l=sorted(l,reverse=True)\n",
    "        return l\n",
    "    elif s==\"Asc\":\n",
    "        l=sorted(l)\n",
    "        return l\n",
    "    else:\n",
    "        return None\n",
    "    \n",
    "print(asc_des_none([4, 3, 2, 1], 'Asc'))\n",
    "print(asc_des_none([7, 8, 11, 66],'Des'))\n",
    "print(asc_des_none([1, 2, 3, 4], None))"
   ]
  },
  {
   "cell_type": "markdown",
   "id": "35ead918",
   "metadata": {},
   "source": [
    "# Python Week 28"
   ]
  },
  {
   "cell_type": "code",
   "execution_count": 28,
   "id": "b1213830",
   "metadata": {},
   "outputs": [
    {
     "name": "stdout",
     "output_type": "stream",
     "text": [
      "['red flag', 'blue flag']\n",
      "['red flag', 'blue flag']\n",
      "['red flag', 'blue flag', 'red flag']\n"
     ]
    }
   ],
   "source": [
    "#The vertical bar | is the equivalent to “or” in RegEx. The regular expression x | y matches either “x” or “y”. \n",
    "#Write the regular expression that will match all red flag and blue flag in a string. \n",
    "#You must use | in your expression. Flags can come in any order.\n",
    "import re\n",
    "\n",
    "def find_red_blue(s):\n",
    "    pattern = re.compile(r'(red flag|blue flag)')\n",
    "    matches = re.findall(pattern,s)\n",
    "    return matches\n",
    "\n",
    "txt1 = 'red flag blue flag'\n",
    "txt2 = 'yellow flag red flag blue flag green flag'\n",
    "txt3 = 'pink flag red flag black flag blue flag green flag red flag'\n",
    "print(find_red_blue(txt1))\n",
    "print(find_red_blue(txt2))\n",
    "print(find_red_blue(txt3))"
   ]
  },
  {
   "cell_type": "markdown",
   "id": "6be1fa6a",
   "metadata": {},
   "source": [
    "# Python Week 29"
   ]
  },
  {
   "cell_type": "code",
   "execution_count": 31,
   "id": "37240120",
   "metadata": {},
   "outputs": [
    {
     "name": "stdout",
     "output_type": "stream",
     "text": [
      "1\n",
      "0\n"
     ]
    }
   ],
   "source": [
    "#Very easy: Create a function which returns the Modulo of the two given numbers.\n",
    "def mod(a,b):\n",
    "    return a%b\n",
    "\n",
    "print(mod(25,12))\n",
    "print(mod(39,3))"
   ]
  },
  {
   "cell_type": "code",
   "execution_count": 32,
   "id": "91edfa34",
   "metadata": {},
   "outputs": [
    {
     "name": "stdout",
     "output_type": "stream",
     "text": [
      "[1, 2]\n",
      "[1, 0, 15]\n",
      "[1, 2]\n"
     ]
    }
   ],
   "source": [
    "#Easy: Create a function that takes a list of non-negative integers and strings and return a new list without the strings.\n",
    "def filter_list(l):\n",
    "    new_list=[]\n",
    "    for i in l:\n",
    "        if isinstance(i,int):\n",
    "            new_list.append(i)\n",
    "            \n",
    "    return new_list\n",
    "\n",
    "print(filter_list([1,2,'a','b']))\n",
    "print(filter_list([1,'a',0,'b',15]))\n",
    "print(filter_list([1,2,'aasf','1','123']))"
   ]
  },
  {
   "cell_type": "markdown",
   "id": "cd62b825",
   "metadata": {},
   "source": [
    "# Python Week 30"
   ]
  },
  {
   "cell_type": "code",
   "execution_count": 33,
   "id": "1a7e6b5f",
   "metadata": {},
   "outputs": [
    {
     "name": "stdout",
     "output_type": "stream",
     "text": [
      "14.0\n",
      "50.0\n"
     ]
    }
   ],
   "source": [
    "#Very easy: Write a function that takes the base and height of a triangle and return its area.\n",
    "\n",
    "def tri_area(b,h):\n",
    "    return 0.5*b*h\n",
    "\n",
    "print(tri_area(7,4))\n",
    "print(tri_area(10,10))"
   ]
  },
  {
   "cell_type": "code",
   "execution_count": 34,
   "id": "e4e66a7f",
   "metadata": {},
   "outputs": [
    {
     "name": "stdout",
     "output_type": "stream",
     "text": [
      "6\n",
      "6227020800\n"
     ]
    }
   ],
   "source": [
    "#Easy: Create a function that takes an integer and returns the factorial of that integer. \n",
    "#That is, the integer multiplied by all positive lower integers.\n",
    "\n",
    "def factorial(n):\n",
    "    fact=1\n",
    "    for i in range(1,n+1):\n",
    "        fact*=i  \n",
    "    return fact\n",
    "\n",
    "print(factorial(3))\n",
    "print(factorial(13))"
   ]
  },
  {
   "cell_type": "code",
   "execution_count": 39,
   "id": "4032ae74",
   "metadata": {},
   "outputs": [
    {
     "name": "stdout",
     "output_type": "stream",
     "text": [
      "1\n",
      "300\n",
      "59400\n"
     ]
    }
   ],
   "source": [
    "# Medium: Create a function that takes three values:\n",
    "# h hours\n",
    "# m minutes\n",
    "# s seconds\n",
    "# Return the value that’s the longest duration.\n",
    "\n",
    "def longest_time(h,m,s):\n",
    "    d={h:h*3600,m:m*60,s:s}\n",
    "    t=max(d[h],d[m],d[s])\n",
    "    for k,v in d.items():\n",
    "        if v==t:\n",
    "            return k\n",
    "\n",
    "print(longest_time(1, 59, 3598))\n",
    "print(longest_time(2, 300, 15000))\n",
    "print(longest_time(15, 955, 59400))"
   ]
  },
  {
   "cell_type": "code",
   "execution_count": 48,
   "id": "28ec94c5",
   "metadata": {},
   "outputs": [
    {
     "name": "stdout",
     "output_type": "stream",
     "text": [
      "['cows', 'pig']\n",
      "['tables']\n",
      "['chair', 'pencil', 'arm']\n"
     ]
    }
   ],
   "source": [
    "#Given a list of words in the singular form, return a set of those words in the plural form if they appear more \n",
    "#than once in the list.\n",
    "\n",
    "def pluralize(words):\n",
    "    plural=[]\n",
    "    for word in words:\n",
    "        if words.count(word)>1:\n",
    "            if word+'s' not in plural:\n",
    "                plural.append(word+'s')\n",
    "        else:\n",
    "            plural.append(word)\n",
    "    return plural\n",
    "\n",
    "print(pluralize(['cow', 'pig', 'cow', 'cow']))\n",
    "print(pluralize(['table', 'table', 'table']))\n",
    "print(pluralize(['chair', 'pencil', 'arm']))"
   ]
  },
  {
   "cell_type": "markdown",
   "id": "3408bdd5",
   "metadata": {},
   "source": [
    "# Python Week 31"
   ]
  },
  {
   "cell_type": "code",
   "execution_count": 50,
   "id": "641f4e4d",
   "metadata": {},
   "outputs": [
    {
     "name": "stdout",
     "output_type": "stream",
     "text": [
      "36\n",
      "22\n",
      "50\n"
     ]
    }
   ],
   "source": [
    "#In this challenge, a farmer is asking you to tell him how many legs can be counted among all his animals. \n",
    "#The farmer breeds three species: \n",
    "# chickens = 2 legs\n",
    "# cows = 4 legs\n",
    "# pigs = 4 legs\n",
    "# The farmer has counted his animals and he gives you a subtotal for each species. \n",
    "# You have to implement a function that returns the total number of legs of all the animals.\n",
    "# Examples\n",
    "# animals(2, 3, 5) ➞ 36\n",
    "# animals(1, 2, 3) ➞ 22\n",
    "# animals(5, 2, 8) ➞ 50\n",
    "\n",
    "def animals(chickens,cows,pigs):\n",
    "    return chickens*2+cows*4+pigs*4\n",
    "\n",
    "print(animals(2, 3, 5))\n",
    "print(animals(1, 2, 3))\n",
    "print(animals(5, 2, 8))"
   ]
  },
  {
   "cell_type": "code",
   "execution_count": 51,
   "id": "aa3121d7",
   "metadata": {},
   "outputs": [
    {
     "name": "stdout",
     "output_type": "stream",
     "text": [
      "[2, 4, 6, 8]\n",
      "[2, 4]\n",
      "[2]\n"
     ]
    }
   ],
   "source": [
    "# Using list comprehensions, create a function that finds all even numbers from 1 to the given number.\n",
    "# Examples:\n",
    "# find_even_nums(8) ➞ [2, 4, 6, 8]\n",
    "# find_even_nums(4) ➞ [2, 4]\n",
    "# find_even_nums(2) ➞ [2]\n",
    "\n",
    "def find_even_nums(n):\n",
    "    return [i for i in range(1,n+1) if i%2==0]\n",
    "\n",
    "print(find_even_nums(8))\n",
    "print(find_even_nums(4))\n",
    "print(find_even_nums(2))"
   ]
  },
  {
   "cell_type": "code",
   "execution_count": 66,
   "id": "31b305d7",
   "metadata": {},
   "outputs": [
    {
     "name": "stdout",
     "output_type": "stream",
     "text": [
      "#####\n",
      "#   #\n",
      "#   #\n",
      "#   #\n",
      "#####\n",
      "###\n",
      "# #\n",
      "###\n",
      "##\n",
      "##\n",
      "#\n"
     ]
    }
   ],
   "source": [
    "# Create a function that creates a box based on dimension n.\n",
    "# Examples:\n",
    "# make_box(5) ➞ [\n",
    "# “#####”,\n",
    "# “# #”,\n",
    "# “# #”,\n",
    "# “# #”,\n",
    "# “#####”\n",
    "# ]\n",
    "# make_box(3) ➞ [\n",
    "# “###”,\n",
    "# “# #”,\n",
    "# “###”\n",
    "# ]\n",
    "# make_box(2) ➞ [\n",
    "# “##”,\n",
    "# “##”\n",
    "# ]\n",
    "# make_box(1) ➞ [\n",
    "# “#”    \n",
    "def make_box(n):\n",
    "    for i in range(1,n+1):\n",
    "        for j in range(1,n+1):\n",
    "            if i==1 or i==n or j==1 or j==n:\n",
    "                print('#',end='')\n",
    "            else:\n",
    "                print(' ',end='')\n",
    "        print()\n",
    "\n",
    "make_box(5)\n",
    "make_box(3)\n",
    "make_box(2)\n",
    "make_box(1)"
   ]
  },
  {
   "cell_type": "markdown",
   "id": "a768fb44",
   "metadata": {},
   "source": [
    "# Python Week 32"
   ]
  },
  {
   "cell_type": "code",
   "execution_count": 67,
   "id": "9adb15b7",
   "metadata": {},
   "outputs": [
    {
     "name": "stdout",
     "output_type": "stream",
     "text": [
      "2300\n",
      "330\n",
      "9600\n"
     ]
    }
   ],
   "source": [
    "# Create a function that takes voltage and current and returns the calculated power.\n",
    "# Power = Voltage x Current\n",
    "# Examples:\n",
    "# circuit_power(230, 10) ➞ 2300\n",
    "# circuit_power(110, 3) ➞ 330\n",
    "# circuit_power(480, 20) ➞ 9600\n",
    "\n",
    "def circuit_power(voltage,current):\n",
    "    return voltage*current\n",
    "\n",
    "print(circuit_power(230, 10))\n",
    "print(circuit_power(110, 3))\n",
    "print(circuit_power(480, 20))"
   ]
  },
  {
   "cell_type": "code",
   "execution_count": 69,
   "id": "0be2881d",
   "metadata": {},
   "outputs": [
    {
     "name": "stdout",
     "output_type": "stream",
     "text": [
      "th# ##rdv#rk\n",
      "m?nn?? m??s?\n",
      "shkspr\n"
     ]
    }
   ],
   "source": [
    "#Create a function that replaces all the vowels in a string with a specified character.\n",
    "def replace_vowels(s,c):\n",
    "    vowels=['a','e','i','o','u']\n",
    "    for i in s:\n",
    "        if i in vowels:\n",
    "            s=s.replace(i,c)\n",
    "    return s\n",
    "\n",
    "print(replace_vowels('the aardvark', '#'))\n",
    "print(replace_vowels('minnie mouse', '?'))\n",
    "print(replace_vowels('shakespeare', ''))"
   ]
  },
  {
   "cell_type": "code",
   "execution_count": 71,
   "id": "0dfb556e",
   "metadata": {},
   "outputs": [
    {
     "name": "stdout",
     "output_type": "stream",
     "text": [
      "5\n",
      "7\n",
      "0\n"
     ]
    }
   ],
   "source": [
    "#Given three lists of integers: lst1, lst2, lst3, return the sum of integers which are common in all three lists.\n",
    "def sum_common(l1,l2,l3):\n",
    "    sum=0\n",
    "    for i in l1:\n",
    "        if i in l2 and i in l3:\n",
    "            sum+=i;\n",
    "    return sum\n",
    "\n",
    "print(sum_common([1, 2, 3], [5, 3, 2], [7, 3, 2]))\n",
    "print(sum_common([1, 2, 2, 3], [5, 3, 2, 2], [7, 3, 2, 2]))\n",
    "print(sum_common([1], [1], [2]))"
   ]
  },
  {
   "cell_type": "code",
   "execution_count": 76,
   "id": "e378027d",
   "metadata": {},
   "outputs": [
    {
     "name": "stdout",
     "output_type": "stream",
     "text": [
      "Loves me,Loves me Not,LOVES ME\n",
      "Loves me,Loves me Not,Loves me,Loves me Not,Loves me,LOVES ME NOT\n",
      "LOVES ME\n"
     ]
    }
   ],
   "source": [
    "# “Loves me, loves me not” is a traditional game in which a person plucks off all the petals of a flower one by one, saying \n",
    "#the phrase “Loves me” and “Loves me not” when determining whether the one that they love, loves them back.\n",
    "\n",
    "# Given a number of petals, return a string which repeats the phrases “Loves me” and “Loves me not” for every alternating petal,\n",
    "#and return the last phrase in all caps. Remember to put a comma and space between phrases.\n",
    "\n",
    "# Examples:\n",
    "# loves_me(3) ➞ “Loves me, Loves me not, LOVES ME”\n",
    "# loves_me(6) ➞ “Loves me, Loves me not, Loves me, Loves me not, Loves me, LOVES ME NOT”\n",
    "# loves_me(1) ➞ “LOVES ME”\n",
    "\n",
    "def loves_me(n):\n",
    "    flag=1\n",
    "    s=\"\"\n",
    "    for i in range(n):\n",
    "        if flag==1:\n",
    "            if i!=n-1:\n",
    "                s+=\"Loves me,\"\n",
    "            else:\n",
    "                s+=\"LOVES ME\"\n",
    "            flag=0\n",
    "        else:\n",
    "            if i!=n-1:\n",
    "                s+=\"Loves me Not,\"\n",
    "            else:\n",
    "                s+=\"LOVES ME NOT\"\n",
    "            flag=1\n",
    "    return s\n",
    "\n",
    "print(loves_me(3))\n",
    "print(loves_me(6))\n",
    "print(loves_me(1))\n"
   ]
  },
  {
   "cell_type": "markdown",
   "id": "a23be045",
   "metadata": {},
   "source": [
    "# Python Week 33"
   ]
  },
  {
   "cell_type": "code",
   "execution_count": 77,
   "id": "548318b2",
   "metadata": {},
   "outputs": [
    {
     "name": "stdout",
     "output_type": "stream",
     "text": [
      "1 10 -2\n"
     ]
    }
   ],
   "source": [
    "#Create a function that takes a number as an argument, increments the number by +1 and returns the result.\n",
    "def addition(n):\n",
    "    return n+1\n",
    "\n",
    "print(addition(0),addition(9),addition(-3))"
   ]
  },
  {
   "cell_type": "code",
   "execution_count": 78,
   "id": "c4709987",
   "metadata": {},
   "outputs": [
    {
     "name": "stdout",
     "output_type": "stream",
     "text": [
      "[2, 2]\n",
      "[5, 6]\n",
      "[5, 5]\n",
      "[-5, -4]\n"
     ]
    }
   ],
   "source": [
    "#Given a number, return a list containing the two halves of the number. If the number is odd, make the rightmost number higher.\n",
    "def number_split(n):\n",
    "    if n%2==0:\n",
    "        return [n//2,n//2]\n",
    "    else:\n",
    "        return [n//2,n//2+1]\n",
    "    \n",
    "print(number_split(4))\n",
    "print(number_split(11))\n",
    "print(number_split(10))\n",
    "print(number_split(-9))"
   ]
  },
  {
   "cell_type": "code",
   "execution_count": 83,
   "id": "fd4960fd",
   "metadata": {},
   "outputs": [
    {
     "name": "stdout",
     "output_type": "stream",
     "text": [
      "[7, 14, 21, 28, 35]\n",
      "[12, 24, 36, 48, 60, 72, 84, 96, 108, 120]\n",
      "[17, 34, 51, 68, 85, 102]\n"
     ]
    }
   ],
   "source": [
    "#Create a function that takes two numbers as arguments (num, length) and returns a list of multiples of num until \n",
    "#the list length reaches length.\n",
    "def list_of_multiples(num,length):\n",
    "    l=[]\n",
    "    for i in range(1,length+1):\n",
    "        l.append(num*i)\n",
    "    return l\n",
    "\n",
    "print(list_of_multiples(7,5))\n",
    "print(list_of_multiples(12,10))\n",
    "print(list_of_multiples(17,6))"
   ]
  },
  {
   "cell_type": "code",
   "execution_count": 87,
   "id": "f7cce02c",
   "metadata": {},
   "outputs": [
    {
     "name": "stdout",
     "output_type": "stream",
     "text": [
      "24\n",
      "0\n",
      "144\n",
      "-1\n"
     ]
    }
   ],
   "source": [
    "# Create a function to perform basic arithmetic operations that includes addition, subtraction, multiplication and division \n",
    "# on a string number (e.g. “12 + 24” or “23 – 21” or “12 // 12” or “12 * 21”).\n",
    "# Here, we have 1 followed by a space, operator followed by another space and 2. For the challenge, we are going to have only\n",
    "# two numbers between 1 valid operator. The return value should be a number.\n",
    "# eval() is not allowed. In case of division, whenever the second number equals “0” return -1.\n",
    "# For example:\n",
    "# “15 // 0” ➞ -1\n",
    "# Examples:\n",
    "# arithmetic_operation(“12 + 12”) ➞ 24\n",
    "# arithmetic_operation(“12 – 12”) ➞ 0\n",
    "# arithmetic_operation(“12 * 12”) ➞ 144\n",
    "# arithmetic_operation(“12 // 0”) ➞ -1\n",
    "\n",
    "def arithmetic_operation(s):\n",
    "    s=s.split(' ')\n",
    "    num1,num2=int(s[0]),int(s[2])\n",
    "    if num2==0:\n",
    "        return -1\n",
    "    elif s[1]=='+':\n",
    "        return num1+num2\n",
    "    elif s[1]=='-':\n",
    "        return num1-num2\n",
    "    elif s[1]=='*':\n",
    "        return num1*num2\n",
    "    else:\n",
    "        return num1//num2\n",
    "    \n",
    "print(arithmetic_operation('12 + 12'))\n",
    "print(arithmetic_operation('12 - 12'))\n",
    "print(arithmetic_operation('12 * 12'))\n",
    "print(arithmetic_operation('12 // 0'))"
   ]
  },
  {
   "cell_type": "markdown",
   "id": "ab6f054a",
   "metadata": {},
   "source": [
    "# Python Week 34"
   ]
  },
  {
   "cell_type": "code",
   "execution_count": 88,
   "id": "6915a268",
   "metadata": {},
   "outputs": [
    {
     "name": "stdout",
     "output_type": "stream",
     "text": [
      "[12, 9]\n",
      "[-12, -9]\n",
      "[0, 0]\n"
     ]
    }
   ],
   "source": [
    "# Write a function that takes a list of numbers and returns a list with two elements:\n",
    "# 1. The first element should be the sum of all even numbers in the list.\n",
    "# 2. The second element should be the sum of all odd numbers in the list.\n",
    "\n",
    "def sum_odd_and_even(l):\n",
    "    e,o=0,0\n",
    "    for i in l:\n",
    "        if i%2==0:\n",
    "            e+=i\n",
    "        else:\n",
    "            o+=i\n",
    "    return [e,o]\n",
    "\n",
    "print(sum_odd_and_even([1, 2, 3, 4, 5, 6]))\n",
    "print(sum_odd_and_even([-1, -2, -3, -4, -5, -6]))\n",
    "print(sum_odd_and_even([0, 0]))"
   ]
  },
  {
   "cell_type": "code",
   "execution_count": 91,
   "id": "858223a4",
   "metadata": {},
   "outputs": [
    {
     "name": "stdout",
     "output_type": "stream",
     "text": [
      "A\n",
      "A\n",
      "None\n"
     ]
    }
   ],
   "source": [
    "# Create a function that returns the majority vote in a list. A majority vote is an element that occurs > N/2 times in a list \n",
    "#(where N is the length of the list).\n",
    "# Examples:\n",
    "# majority_vote([“A”, “A”, “B”]) ➞ “A”\n",
    "# majority_vote([“A”, “A”, “A”, “B”, “C”, “A”]) ➞ “A”\n",
    "# majority_vote([“A”, “B”, “B”, “A”, “C”, “C”]) ➞ None\n",
    "\n",
    "def majority_vote(l):\n",
    "    d={}\n",
    "    for i in l:\n",
    "        if i not in d:\n",
    "            d[i]=1\n",
    "        else:\n",
    "            d[i]+=1\n",
    "       \n",
    "    for k,v in d.items():\n",
    "        if v>len(l)/2:\n",
    "            return k\n",
    "        \n",
    "print(majority_vote(['A', 'A', 'B']))\n",
    "print(majority_vote(['A','A','A','B','C','A']))\n",
    "print(majority_vote(['A','B','B','A','C','C']))\n"
   ]
  },
  {
   "cell_type": "markdown",
   "id": "5a84f8fe",
   "metadata": {},
   "source": [
    "# Python Week 35"
   ]
  },
  {
   "cell_type": "code",
   "execution_count": 95,
   "id": "42f21a48",
   "metadata": {},
   "outputs": [
    {
     "name": "stdout",
     "output_type": "stream",
     "text": [
      "8.0\n",
      "317.49015732775086\n",
      "6.0\n"
     ]
    }
   ],
   "source": [
    "#Write a Python function that takes a list of numbers and calculates the geometric mean.\n",
    "import math\n",
    "def geometric_mean(l):\n",
    "    n=len(l)\n",
    "    prod=1\n",
    "    for i in l:\n",
    "        prod*=i\n",
    "    return math.sqrt(prod)\n",
    "\n",
    "print(geometric_mean([2,4,8]))\n",
    "print(geometric_mean([10,20,3,21,8]))\n",
    "print(geometric_mean([12,3]))"
   ]
  },
  {
   "cell_type": "code",
   "execution_count": 105,
   "id": "6a6d0314",
   "metadata": {},
   "outputs": [
    {
     "name": "stdout",
     "output_type": "stream",
     "text": [
      "[1, 2, 45, 60, 3, 4, 5]\n"
     ]
    }
   ],
   "source": [
    "#Given input_list = [1, 2, 2, 45, 60, 3, 3, 3, 4, 5, 5]. \n",
    "#Write a Python program to remove duplicates from the given list of values.\n",
    "\n",
    "input_list = [1, 2, 2, 45, 60, 3, 3, 3, 4, 5, 5]\n",
    "l=[]\n",
    "for i in input_list:\n",
    "    if i not in l:\n",
    "        l.append(i)\n",
    "\n",
    "print(l)"
   ]
  },
  {
   "cell_type": "code",
   "execution_count": 115,
   "id": "cffb6c74",
   "metadata": {},
   "outputs": [
    {
     "name": "stdout",
     "output_type": "stream",
     "text": [
      "Hello World Do you think pineapples belong on pizza\n"
     ]
    }
   ],
   "source": [
    "#Given the following string, input_string, write a Python function that takes a string and removes all punctuation characters \n",
    "#from it.\n",
    "import string\n",
    "input_string ='Hello, World! Do you think pineapples belong on pizza?'\n",
    "s=string.punctuation\n",
    "for i in input_string:\n",
    "    if i in s:\n",
    "        input_string=input_string.replace(i,'')\n",
    "        \n",
    "print(input_string)\n"
   ]
  },
  {
   "cell_type": "code",
   "execution_count": 117,
   "id": "be370130",
   "metadata": {},
   "outputs": [
    {
     "name": "stdout",
     "output_type": "stream",
     "text": [
      " quick brown fox jumps over  lazy dog\n"
     ]
    }
   ],
   "source": [
    "#Given the following string, input_string, write a Python function that takes a string and removes all stop words \n",
    "#(e.g. “the”, “a”, “an”) from it.\n",
    "articles=['a','an','the']\n",
    "input_string = 'The quick brown fox jumps over the lazy dog'\n",
    "input_string=input_string.lower()\n",
    "for i in input_string.split(' '):\n",
    "    if i in articles:\n",
    "        input_string=input_string.replace(i,'')\n",
    "print(input_string)\n",
    "        "
   ]
  },
  {
   "cell_type": "markdown",
   "id": "d9a8c755",
   "metadata": {},
   "source": [
    "# Python Week 36"
   ]
  },
  {
   "cell_type": "code",
   "execution_count": 119,
   "id": "0832307b",
   "metadata": {},
   "outputs": [
    {
     "name": "stdout",
     "output_type": "stream",
     "text": [
      "20191211\n",
      "20193112\n",
      "20191501\n"
     ]
    }
   ],
   "source": [
    "#Create a function that converts a date formatted as MM/DD/YYYY to YYYYDDMM.\n",
    "def format_date(date):\n",
    "    date=date.split('/')\n",
    "    return date[2]+date[1]+date[0]\n",
    "\n",
    "print(format_date('11/12/2019'))\n",
    "print(format_date('12/31/2019'))\n",
    "print(format_date('01/15/2019'))\n"
   ]
  },
  {
   "cell_type": "code",
   "execution_count": 1,
   "id": "7d19e221",
   "metadata": {},
   "outputs": [
    {
     "name": "stdout",
     "output_type": "stream",
     "text": [
      "['aps', 'hr', 'o']\n",
      "['bdor', 'a', 'e']\n",
      "['enpp', 'ahiss', 'lov']\n",
      "['ffflu', 'eekr', 'y']\n",
      "['ahm', 'ct', '']\n"
     ]
    }
   ],
   "source": [
    "# Create a function that takes in two words as input and returns a list of three elements, in the following order:\n",
    "# 1. Shared letters between two words.\n",
    "# 2. Letters unique to the first word\n",
    "# 3. Letters unique to the second word. Each element should have unique letters, and have each letter be alphabetically sorted.\n",
    "\n",
    "def letters(w1,w2):\n",
    "    same,unique='',''\n",
    "    l=[]\n",
    "    for i in w1:\n",
    "        if i in w2:\n",
    "            same+=i\n",
    "        if i not in w2:\n",
    "            unique+=i\n",
    "    same,unique=''.join(sorted(same)),''.join(sorted(unique))\n",
    "    l.extend([same,unique])\n",
    "\n",
    "    unique=''\n",
    "    for i in w2:\n",
    "        if i not in w1:\n",
    "            unique+=i\n",
    "            \n",
    "    unique=''.join(sorted(unique))\n",
    "    l.append(unique)\n",
    "    return l\n",
    "\n",
    "print(letters('sharp', 'soap'))\n",
    "print(letters('board', 'bored'))\n",
    "print(letters('happiness', 'envelope'))\n",
    "print(letters('kerfuffle', 'fluffy'))\n",
    "print(letters('match', 'ham'))"
   ]
  },
  {
   "cell_type": "code",
   "execution_count": 1,
   "id": "292e3ab3",
   "metadata": {},
   "outputs": [
    {
     "name": "stdout",
     "output_type": "stream",
     "text": [
      "20\n",
      "204\n"
     ]
    }
   ],
   "source": [
    "def multiply(a,b,s):\n",
    "    static s\n",
    "    if a==0:\n",
    "        return s\n",
    "    a=a-1\n",
    "    s+=b\n",
    "    return multiply(a,b,w)\n",
    "\n",
    "# def multiply(a,b):\n",
    "#     if b == 0:\n",
    "#         return 0\n",
    "#     return a + multiply(a, b-1)\n",
    "\n",
    "print(multiply(10,2,0))\n",
    "print(multiply(51,4,0))"
   ]
  },
  {
   "cell_type": "markdown",
   "id": "93504366",
   "metadata": {},
   "source": [
    "# Python Week 37"
   ]
  },
  {
   "cell_type": "code",
   "execution_count": 2,
   "id": "5f0006b0",
   "metadata": {},
   "outputs": [
    {
     "name": "stdout",
     "output_type": "stream",
     "text": [
      "banana\n",
      "{'b': 1, 'a': 3, 'n': 2}\n"
     ]
    }
   ],
   "source": [
    "# Write a Python function that accepts a string as input and returns a dictionary containing the count of each character \n",
    "#in the string. \n",
    "#For example, given the string “banana”, the function should return {‘b’: 1, ‘a’: 3, ‘n’: 2}.\n",
    "\n",
    "s=input()\n",
    "d={}\n",
    "for i in s:\n",
    "    if i not in d:\n",
    "        d[i]=1\n",
    "    else:\n",
    "        d[i]+=1\n",
    "print(d)"
   ]
  },
  {
   "cell_type": "code",
   "execution_count": 5,
   "id": "e5821356",
   "metadata": {},
   "outputs": [
    {
     "name": "stdout",
     "output_type": "stream",
     "text": [
      "[('Sam', 16, 'Grade 11')]\n"
     ]
    }
   ],
   "source": [
    "# Given a list of tuples representing student information like students = [(“John”, 15, “Grade 10”), (“Emily”, 14, “Grade 9”), \n",
    "#(“Sam”, 16, “Grade 11”)], write a Python function to filter out the students who are older than 15.\n",
    "\n",
    "def student_greater15(students):\n",
    "    l=list(filter(lambda s:s[1]>15,students))\n",
    "    print(l)\n",
    "    \n",
    "students = [('John', 15, 'Grade 10'), ('Emily', 14, 'Grade 9'), ('Sam', 16, 'Grade 11')]\n",
    "student_greater15(students)"
   ]
  },
  {
   "cell_type": "code",
   "execution_count": 6,
   "id": "e4513cf3",
   "metadata": {},
   "outputs": [
    {
     "name": "stdout",
     "output_type": "stream",
     "text": [
      "[(2, 102, 20.0), (5, 102, 20.0), (8, 102, 20.0)]\n"
     ]
    }
   ],
   "source": [
    "#Let’s assume you have a list of tuples stored in the variable transactions, each representing a transaction in an e-commerce \n",
    "#store where the first element is the transaction ID, the second element is the product ID, and the third element is the price.\n",
    "#Write a Python function to find the product with the highest total sales.\n",
    "\n",
    "def highest_sales(transactions):\n",
    "    transactions = [\n",
    "        (1, 101, 15.0),\n",
    "        (2, 102, 20.0),\n",
    "        (3, 101, 15.0),\n",
    "        (4, 103, 10.0),\n",
    "        (5, 102, 20.0),\n",
    "        (6, 101, 15.0),\n",
    "        (7, 103, 10.0),\n",
    "        (8, 102, 20.0),\n",
    "        (9, 103, 10.0),\n",
    "    ]\n",
    "    max_price=0\n",
    "    products=[]\n",
    "    for i in transactions:\n",
    "        if i[2]>max_price:\n",
    "            max_price=i[2]\n",
    "    for i in transactions:\n",
    "        if max_price==i[2]:\n",
    "            products.append(i)\n",
    "            \n",
    "    print(products)\n",
    " \n",
    "transactions= [\n",
    "        (1, 101, 15.0),\n",
    "        (2, 102, 20.0),\n",
    "        (3, 101, 15.0),\n",
    "        (4, 103, 10.0),\n",
    "        (5, 102, 20.0),\n",
    "        (6, 101, 15.0),\n",
    "        (7, 103, 10.0),\n",
    "        (8, 102, 20.0),\n",
    "        (9, 103, 10.0)\n",
    "]\n",
    "highest_sales(transactions)\n",
    "    "
   ]
  },
  {
   "cell_type": "code",
   "execution_count": 13,
   "id": "728e7365",
   "metadata": {},
   "outputs": [
    {
     "name": "stdout",
     "output_type": "stream",
     "text": [
      "Radius of cirlce is 5.\n",
      "Area of cirlce is 78.54.\n",
      "Circumference of cirlce is 31.42.\n",
      "New radius of cirlce is 10.\n",
      "New area of cirlce is 314.16.\n",
      "New circumference of cirlce is 62.83.\n"
     ]
    }
   ],
   "source": [
    "# In Python, OOP allows us to encapsulate related properties and behaviors into individual objects. \n",
    "# This challenge will involve creating a simple class and methods.\n",
    "# The problem is to create a Circle class that represents a circle. The circle will be initialized with a radius. \n",
    "# The class should have the following methods:\n",
    "\n",
    "# get_radius(): This method should return the radius of the circle.\n",
    "# set_radius(new_radius): This method should set a new radius for the circle.\n",
    "# calculate_area(): This method should calculate and return the area of the circle using the formula πr^2. \n",
    "# You can use 3.14 as the approximation for π.\n",
    "# calculate_circumference(): This method should calculate and return the circumference of the circle using the formula 2πr.\n",
    "# To test your implementation, create an instance of the circle with a radius of 5, update the radius to 10, \n",
    "# and then calculate the area and circumference.\n",
    "\n",
    "import math\n",
    "class Circle:\n",
    "    def __init__(self,radius):\n",
    "        self.radius=radius\n",
    "    def get_radius(self):\n",
    "        return self.radius\n",
    "    def set_radius(self,new_radius):\n",
    "        self.radius=new_radius\n",
    "    def calculate_area(self):\n",
    "        return math.pi * self.radius*self.radius\n",
    "    def calculate_circumference(self):\n",
    "        return 2*self.radius*math.pi\n",
    "    \n",
    "c=Circle(5)\n",
    "print(f'Radius of cirlce is {c.get_radius()}.')\n",
    "print(f'Area of cirlce is {round(c.calculate_area(),2)}.')\n",
    "print(f'Circumference of cirlce is {round(c.calculate_circumference(),2)}.')\n",
    "c.set_radius(10)\n",
    "\n",
    "print(f'New radius of cirlce is {c.get_radius()}.')\n",
    "print(f'New area of cirlce is {round(c.calculate_area(),2)}.')\n",
    "print(f'New circumference of cirlce is {round(c.calculate_circumference(),2)}.')"
   ]
  },
  {
   "cell_type": "markdown",
   "id": "4ab346d5",
   "metadata": {},
   "source": [
    "# Python Week 38"
   ]
  },
  {
   "cell_type": "code",
   "execution_count": 23,
   "id": "94953f99",
   "metadata": {},
   "outputs": [
    {
     "name": "stdout",
     "output_type": "stream",
     "text": [
      "['shawn@dim.com', 'frank@dim.com', 'mikey@dim.com']\n"
     ]
    }
   ],
   "source": [
    "# Given the following list of emails\n",
    "# emails = [\"kedeisha@example.com\", \"soanli@example.com\", \"taamir@example.com\", \"shawn@dim.com\", \"frank@dim.com\", \"mikey@dim.com\"],\n",
    "# Write a Python function to filter out all emails that belong to the “dim.com” domain.\n",
    "\n",
    "emails = [\"kedeisha@example.com\", \"soanli@example.com\", \"taamir@example.com\", \"shawn@dim.com\", \"frank@dim.com\", \"mikey@dim.com\"]\n",
    "def filter_emails(emails):\n",
    "    l=[]\n",
    "    for email in emails:\n",
    "        domain=email.split('@')\n",
    "        if domain[1]=='dim.com':\n",
    "            l.append(email)\n",
    "    return l\n",
    "\n",
    "print(filter_emails(emails))"
   ]
  },
  {
   "cell_type": "code",
   "execution_count": 25,
   "id": "d2e50320",
   "metadata": {},
   "outputs": [
    {
     "name": "stdout",
     "output_type": "stream",
     "text": [
      "{'product': 'B', 'price': 15.6}\n"
     ]
    }
   ],
   "source": [
    "#Consider the following list of dictionaries\n",
    "# products = [{\"product\": \"A\", \"price\": 12.20}, {\"product\": \"B\", \"price\": 15.60}, {\"product\": \"C\", \"price\": 9.10}]\n",
    "# Write a Python function to find the most expensive product.\n",
    "\n",
    "products = [{\"product\": \"A\", \"price\": 12.20}, {\"product\": \"B\", \"price\": 15.60}, {\"product\": \"C\", \"price\": 9.10}]\n",
    "t=0\n",
    "for i in products:\n",
    "    t=max(i['price'],t)\n",
    "\n",
    "for i in products:\n",
    "    if t==i['price']:\n",
    "        print(i)"
   ]
  },
  {
   "cell_type": "code",
   "execution_count": 27,
   "id": "89bd3bc0",
   "metadata": {},
   "outputs": [
    {
     "name": "stdout",
     "output_type": "stream",
     "text": [
      "{'name': 'Bruce', 'date_of_birth': '1915-04-07'}\n"
     ]
    }
   ],
   "source": [
    "# Given a list of dictionaries where each dictionary contains ‘name’ and ‘date_of_birth’ of individuals, \n",
    "#write a Python function to find the oldest person. For example:\n",
    "# persons = [\n",
    "# {\"name\": \"Kedeisha\", \"date_of_birth\": \"1994-05-20\"},\n",
    "# {\"name\": \"Homer\", \"date_of_birth\": \"1956-05-12\"},\n",
    "# {\"name\": \"Bruce\", \"date_of_birth\": \"1915-04-07\"},\n",
    "# ]\n",
    "\n",
    "persons = [\n",
    "    {\"name\": \"Kedeisha\", \"date_of_birth\": \"1994-05-20\"},\n",
    "    {\"name\": \"Homer\", \"date_of_birth\": \"1956-05-12\"},\n",
    "    {\"name\": \"Bruce\", \"date_of_birth\": \"1915-04-07\"},\n",
    "]\n",
    "t='1970-01-01'\n",
    "for i in persons:\n",
    "    t=min(i['date_of_birth'],t)\n",
    "\n",
    "for i in persons:\n",
    "    if t==i['date_of_birth']:\n",
    "        print(i)"
   ]
  },
  {
   "cell_type": "code",
   "execution_count": 29,
   "id": "b55c965b",
   "metadata": {},
   "outputs": [
    {
     "name": "stdout",
     "output_type": "stream",
     "text": [
      "Company: Toyota, Model: Corolla & Year: 2015\n",
      "8\n",
      "Company: Honda, Model: Corolla & Year: 2018\n",
      "5\n"
     ]
    }
   ],
   "source": [
    "# Create a Python class Car that represents a car. The car should be initialized with its make, model, and year of manufacture.\n",
    "# The class should have the following methods:\n",
    "# get_details(): This method should return a string representing the details of the car in the format “make model (year)”.\n",
    "# set_details(new_make, new_model, new_year): This method should set new details for the car.\n",
    "# age(): This method should calculate and return the age of the car based on the current year. Assume the current year is 2023.\n",
    "# To test your implementation, create a Car object with make “Toyota”, model “Corolla”, and year 2015. \n",
    "# Update the details to make “Honda”, model “Civic”, and year 2018, and then calculate and print the age of the car.\n",
    "\n",
    "class Car:\n",
    "    def __init__(self,make,model,year):\n",
    "        self.make=make\n",
    "        self.model=model\n",
    "        self.year=year\n",
    "    def get_details(self):\n",
    "        return f'Company: {self.make}, Model: {self.model} & Year: {self.year}'\n",
    "    def set_details(self,new_make,new_model,new_year):\n",
    "        self.make=new_make\n",
    "        self.year=new_year\n",
    "    def age(self):\n",
    "        return 2023-self.year\n",
    "\n",
    "toyota=Car('Toyota','Corolla',2015)\n",
    "print(toyota.get_details())\n",
    "print(toyota.age())\n",
    "toyota.set_details(\"Honda\",\"Civic\",2018)\n",
    "print(toyota.get_details())\n",
    "print(toyota.age())"
   ]
  },
  {
   "cell_type": "markdown",
   "id": "5156f0fc",
   "metadata": {},
   "source": [
    "# Python Week 39"
   ]
  },
  {
   "cell_type": "code",
   "execution_count": 41,
   "id": "b8b41ad6",
   "metadata": {},
   "outputs": [
    {
     "name": "stdout",
     "output_type": "stream",
     "text": [
      "117\n",
      "Not prime\n"
     ]
    }
   ],
   "source": [
    "#Write a Python function that takes a number as input and checks if it is prime. A prime number is a natural number greater \n",
    "#than 1 that is divisible only by 1 and itself.\n",
    "\n",
    "import math\n",
    "n=int(input())\n",
    "flag=0\n",
    "# if n==2:\n",
    "#     print('Prime')\n",
    "# else:\n",
    "#     for i in range(2,n):\n",
    "#         if n%i==0:\n",
    "#             flag=1\n",
    "#             break\n",
    "#     if flag==1:\n",
    "#         print('Not prime')\n",
    "#     else:\n",
    "#         print('Prime')\n",
    "\n",
    "if n==2:\n",
    "    print('Prime')\n",
    "else:\n",
    "    for i in range(2,math.floor(math.sqrt(n))+1):\n",
    "        if n%i==0:\n",
    "            flag=1\n",
    "            break\n",
    "    if flag==1:\n",
    "        print('Not prime')\n",
    "    else:\n",
    "        print('Prime')\n"
   ]
  },
  {
   "cell_type": "code",
   "execution_count": 43,
   "id": "80fc300d",
   "metadata": {},
   "outputs": [
    {
     "name": "stdout",
     "output_type": "stream",
     "text": [
      "1 2 3 4 5 3 7 8 5\n",
      "2 3 9 11 8 -1 9\n",
      "{8, 2, 3}\n"
     ]
    }
   ],
   "source": [
    "# Write a Python function that takes two lists as input and returns a new list containing the common elements between the \n",
    "#two lists.\n",
    "l1,l2=set(list(map(int,input().split()))),set(list(map(int,input().split())))\n",
    "l1=l1.intersection(l2)\n",
    "print(l1)\n"
   ]
  },
  {
   "cell_type": "code",
   "execution_count": 46,
   "id": "dbad6309",
   "metadata": {},
   "outputs": [
    {
     "name": "stdout",
     "output_type": "stream",
     "text": [
      "{1: 'apple', 2: 'banana', 3: 'cherry'}\n"
     ]
    }
   ],
   "source": [
    "# Write a Python function that takes the following dictionary as input and returns a new dictionary where the keys and values \n",
    "# are swapped. In other words, the function should create a new dictionary where the original values become the keys, and the\n",
    "# original keys become the values.\n",
    "\n",
    "def swap_dict(original_dict):\n",
    "    d={}\n",
    "    for k,v in original_dict.items():\n",
    "        d[v]=k\n",
    "    return d\n",
    "original_dict = {'apple': 1, 'banana': 2, 'cherry': 3}\n",
    "print(swap_dict(original_dict))\n"
   ]
  },
  {
   "cell_type": "code",
   "execution_count": 47,
   "id": "bad4bc2d",
   "metadata": {},
   "outputs": [
    {
     "name": "stdout",
     "output_type": "stream",
     "text": [
      "Account Holder's Name: Surya & Balance: 15000.0\n"
     ]
    },
    {
     "ename": "NameError",
     "evalue": "name 'balance' is not defined",
     "output_type": "error",
     "traceback": [
      "\u001b[1;31m---------------------------------------------------------------------------\u001b[0m",
      "\u001b[1;31mNameError\u001b[0m                                 Traceback (most recent call last)",
      "Cell \u001b[1;32mIn[47], line 30\u001b[0m\n\u001b[0;32m     28\u001b[0m surya\u001b[38;5;241m.\u001b[39mdeposit(\u001b[38;5;241m5000\u001b[39m)\n\u001b[0;32m     29\u001b[0m surya\u001b[38;5;241m.\u001b[39mdisplay_balance()\n\u001b[1;32m---> 30\u001b[0m \u001b[43msurya\u001b[49m\u001b[38;5;241;43m.\u001b[39;49m\u001b[43mwithdraw\u001b[49m\u001b[43m(\u001b[49m\u001b[38;5;241;43m1000\u001b[39;49m\u001b[43m)\u001b[49m\n\u001b[0;32m     31\u001b[0m surya\u001b[38;5;241m.\u001b[39mdisplay_balance()\n\u001b[0;32m     32\u001b[0m surya\u001b[38;5;241m.\u001b[39mwithdraw(\u001b[38;5;241m20000\u001b[39m)\n",
      "Cell \u001b[1;32mIn[47], line 20\u001b[0m, in \u001b[0;36mBankAccount.withdraw\u001b[1;34m(self, amount)\u001b[0m\n\u001b[0;32m     19\u001b[0m \u001b[38;5;28;01mdef\u001b[39;00m \u001b[38;5;21mwithdraw\u001b[39m(\u001b[38;5;28mself\u001b[39m,amount):\n\u001b[1;32m---> 20\u001b[0m     \u001b[38;5;28;01mif\u001b[39;00m \u001b[43mbalance\u001b[49m\u001b[38;5;241m<\u001b[39m\u001b[38;5;241m=\u001b[39m\u001b[38;5;241m0\u001b[39m:\n\u001b[0;32m     21\u001b[0m         \u001b[38;5;28mprint\u001b[39m(\u001b[38;5;124m\"\u001b[39m\u001b[38;5;124mInsufficient balance\u001b[39m\u001b[38;5;124m\"\u001b[39m)\n\u001b[0;32m     22\u001b[0m     \u001b[38;5;28;01melse\u001b[39;00m:\n",
      "\u001b[1;31mNameError\u001b[0m: name 'balance' is not defined"
     ]
    }
   ],
   "source": [
    "# Create a class called “BankAccount” that represents a bank account. The class should have the following attributes:\n",
    "\n",
    "# account_holder: A string representing the account holder’s name.\n",
    "# balance: A floating-point number representing the current balance in the account.\n",
    "# The class should have the following methods:\n",
    "\n",
    "# deposit(amount): A method that takes a parameter amount (a positive floating-point number) and adds it to the account’s \n",
    "# balance.\n",
    "# withdraw(amount): A method that takes a parameter amount (a positive floating-point number) and subtracts it from the \n",
    "# account’s balance. Make sure to check if the account has sufficient balance before allowing the withdrawal.\n",
    "# display_balance(): A method that displays the account holder’s name and current balance.\n",
    "\n",
    "class BankAccount:\n",
    "    def __init__(self,account_holder,balance):\n",
    "        self.account_holder=account_holder\n",
    "        self.balance=balance\n",
    "    def deposit(self,amount):\n",
    "        self.balance+=amount\n",
    "    def withdraw(self,amount):\n",
    "        if se;balance<=0:\n",
    "            print(\"Insufficient balance\")\n",
    "        else:\n",
    "            self.balance=amount\n",
    "    def display_balance(self):\n",
    "        print(f'Account Holder\\'s Name: {self.account_holder} & Balance: {self.balance}')\n",
    "\n",
    "surya=BankAccount('Surya',10000.00)\n",
    "surya.deposit(5000)\n",
    "surya.display_balance()\n",
    "surya.withdraw(1000)\n",
    "surya.display_balance()\n",
    "surya.withdraw(20000)\n",
    "surya.display_balance()"
   ]
  },
  {
   "cell_type": "code",
   "execution_count": null,
   "id": "b10fa770",
   "metadata": {},
   "outputs": [],
   "source": []
  }
 ],
 "metadata": {
  "kernelspec": {
   "display_name": "Python 3 (ipykernel)",
   "language": "python",
   "name": "python3"
  },
  "language_info": {
   "codemirror_mode": {
    "name": "ipython",
    "version": 3
   },
   "file_extension": ".py",
   "mimetype": "text/x-python",
   "name": "python",
   "nbconvert_exporter": "python",
   "pygments_lexer": "ipython3",
   "version": "3.10.2"
  }
 },
 "nbformat": 4,
 "nbformat_minor": 5
}
