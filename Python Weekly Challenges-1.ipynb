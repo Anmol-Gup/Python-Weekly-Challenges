{
 "cells": [
  {
   "cell_type": "markdown",
   "id": "63d535d0",
   "metadata": {},
   "source": [
    "# **Python Week 1**"
   ]
  },
  {
   "cell_type": "code",
   "execution_count": 1,
   "id": "323c1914",
   "metadata": {},
   "outputs": [
    {
     "name": "stdout",
     "output_type": "stream",
     "text": [
      "45\n",
      "45 minutes is 2700 seconds\n"
     ]
    }
   ],
   "source": [
    "#Problem 1: Write a function that takes in an integer, minutes, and converts it into seconds.\n",
    "minutes=int(input())\n",
    "print(f'{minutes} minutes is {60*minutes} seconds') "
   ]
  },
  {
   "cell_type": "code",
   "execution_count": 3,
   "id": "1837bb41",
   "metadata": {},
   "outputs": [
    {
     "name": "stdout",
     "output_type": "stream",
     "text": [
      "12\n"
     ]
    }
   ],
   "source": [
    "#Problem 2: Write a function that takes two numbers as arguments and returns their sum.\n",
    "def sum(a,b):\n",
    "    return a+b\n",
    "\n",
    "print(sum(4,8))"
   ]
  },
  {
   "cell_type": "code",
   "execution_count": 30,
   "id": "00c3399f",
   "metadata": {},
   "outputs": [
    {
     "name": "stdout",
     "output_type": "stream",
     "text": [
      "surya\n",
      "No. of vowels in surya is 2\n"
     ]
    }
   ],
   "source": [
    "#Problem 3: Create a function that takes a string and returns the number (count) of vowels contained within it.\n",
    "s=input()\n",
    "count=0\n",
    "v=['a','e','i','o','u']\n",
    "\n",
    "for i in s.lower():\n",
    "    if i in v:\n",
    "        count+=1\n",
    "\n",
    "print(\"No. of vowels in\",s,\"is\",count)\n"
   ]
  },
  {
   "cell_type": "code",
   "execution_count": 6,
   "id": "af030f58",
   "metadata": {},
   "outputs": [
    {
     "name": "stdout",
     "output_type": "stream",
     "text": [
      "Fizz\n",
      "Buzz\n",
      "FizzBuzz\n",
      "14\n"
     ]
    }
   ],
   "source": [
    "# Bonus Points (Optional) Create a function that takes a number as an argument and returns “Fizz”, “Buzz” or “FizzBuzz”.\n",
    "# If the number is a multiple of 3 the output should be “Fizz”. If the number given is a multiple of 5, the output should be “Buzz”. If the number given is a multiple of both 3 and 5, the output should be “FizzBuzz”. If the number is not a multiple of either 3 or 5, the number should be output on its own as shown in the examples below. The output should always be a string even if it is not a multiple of 3 or 5\n",
    "\n",
    "def checkMultiple(num):\n",
    "    if num%3==0 and num%5==0:\n",
    "        print(\"FizzBuzz\")\n",
    "    elif num%3==0:\n",
    "        print(\"Fizz\")\n",
    "    elif num%5==0:\n",
    "        print(\"Buzz\")\n",
    "    else:\n",
    "        print(num)\n",
    "        \n",
    "checkMultiple(12)\n",
    "checkMultiple(25)\n",
    "checkMultiple(15)\n",
    "checkMultiple(14)\n"
   ]
  },
  {
   "cell_type": "markdown",
   "id": "b679edbd",
   "metadata": {},
   "source": [
    "# **Python Week 3**"
   ]
  },
  {
   "cell_type": "code",
   "execution_count": 8,
   "id": "2d5e46e5",
   "metadata": {},
   "outputs": [
    {
     "name": "stdout",
     "output_type": "stream",
     "text": [
      "1050.0\n"
     ]
    }
   ],
   "source": [
    "#Problem 1: Create a function that takes two arguments: the original price and the discount percentage as integers and returns the final price after the discount.\n",
    "def finalprice(price,discount):\n",
    "    return price*(1-discount*0.01)\n",
    "\n",
    "print(finalprice(1500,30))"
   ]
  },
  {
   "cell_type": "code",
   "execution_count": 9,
   "id": "654534a8",
   "metadata": {},
   "outputs": [
    {
     "name": "stdout",
     "output_type": "stream",
     "text": [
      "8760\n"
     ]
    }
   ],
   "source": [
    "#Problem 2: Create a function that takes the age in years and returns the age in days.\n",
    "def ageindays(age):\n",
    "    return age*365\n",
    "\n",
    "print(ageindays(24))"
   ]
  },
  {
   "cell_type": "code",
   "execution_count": 10,
   "id": "f589b785",
   "metadata": {},
   "outputs": [
    {
     "name": "stdout",
     "output_type": "stream",
     "text": [
      "2864.8\n"
     ]
    }
   ],
   "source": [
    "#Problem 3: Create a function that takes an angle in radians and returns the corresponding angle in degrees rounded to one decimal place.\n",
    "import math\n",
    "\n",
    "def angle_degree(radian):\n",
    "    return round(radian*(180/math.pi),1)\n",
    "\n",
    "print(angle_degree(50))\n"
   ]
  },
  {
   "cell_type": "code",
   "execution_count": 13,
   "id": "504e78c5",
   "metadata": {},
   "outputs": [
    {
     "name": "stdout",
     "output_type": "stream",
     "text": [
      "Enter date1:2022/02/20\n",
      "Enter date2:2022/03/29\n",
      "No. of days between 2022/02/20 & 2022/03/29 is 37.\n"
     ]
    }
   ],
   "source": [
    "#Bonus (Optional)\n",
    "# Create a function, get_days, that takes two dates and returns the number of days between the first and second date.\n",
    "from datetime import datetime\n",
    "\n",
    "def get_days(date1,date2):\n",
    "    date1=datetime.strptime(date1,\"%Y/%m/%d\")\n",
    "    date2=datetime.strptime(date2,\"%Y/%m/%d\")\n",
    "    return (date2-date1).days\n",
    "\n",
    "d1,d2=input('Enter date1:'),input('Enter date2:')\n",
    "print(f'No. of days between {d1} & {d2} is {get_days(d1,d2)}.')"
   ]
  },
  {
   "cell_type": "markdown",
   "id": "bc0239f2",
   "metadata": {},
   "source": [
    "# **Python Week 4**"
   ]
  },
  {
   "cell_type": "code",
   "execution_count": 15,
   "id": "014d2b7f",
   "metadata": {},
   "outputs": [
    {
     "name": "stdout",
     "output_type": "stream",
     "text": [
      "<class 'int'>\n",
      "<class 'str'>\n"
     ]
    }
   ],
   "source": [
    "#Problem 1: Write two functions:\n",
    "# to_int() : A function to convert a string to an integer.\n",
    "# to_str() : A function to convert an integer to a string.\n",
    "\n",
    "def to_int(s):\n",
    "    return int(s)\n",
    "\n",
    "def to_str(num):\n",
    "    return str(num)\n",
    "\n",
    "print(type(to_int('24')))\n",
    "print(type(to_str(24)))"
   ]
  },
  {
   "cell_type": "code",
   "execution_count": 17,
   "id": "537150b6",
   "metadata": {},
   "outputs": [
    {
     "name": "stdout",
     "output_type": "stream",
     "text": [
      "False True\n"
     ]
    }
   ],
   "source": [
    "#Problem 2: Create a function that takes a number as its only argument and returns True if it’s less than or equal to zero, otherwise return False.\n",
    "def check_number(num):\n",
    "    return num<=0 if True else False\n",
    "    \n",
    "print(check_number(5),check_number(-5))"
   ]
  },
  {
   "cell_type": "code",
   "execution_count": 18,
   "id": "9f4a46bf",
   "metadata": {},
   "outputs": [
    {
     "name": "stdout",
     "output_type": "stream",
     "text": [
      "11\n"
     ]
    }
   ],
   "source": [
    "# Bonus (Optional)\n",
    "# Create a function that takes two number strings and returns their sum as a string.\n",
    "\n",
    "def sum(a,b):\n",
    "    return str(int(a)+int(b))\n",
    "\n",
    "print(sum('3','8'))"
   ]
  },
  {
   "cell_type": "code",
   "execution_count": 22,
   "id": "1234329a",
   "metadata": {},
   "outputs": [
    {
     "name": "stdout",
     "output_type": "stream",
     "text": [
      "Today, I am feeling neutral\n",
      "Today, I am feeling happy\n"
     ]
    }
   ],
   "source": [
    "#Create a function that takes in a current mood and return a sentence in the following format: “Today, I am feeling {mood}”. However, if no argument is passed, return “Today, I am feeling neutral”.\n",
    "\n",
    "def getmood(mood=None):\n",
    "    if mood is None:\n",
    "        return('Today, I am feeling neutral')\n",
    "    return f'Today, I am feeling {mood}'\n",
    "\n",
    "print(getmood())\n",
    "print(getmood('happy'))"
   ]
  },
  {
   "cell_type": "markdown",
   "id": "d4243bc7",
   "metadata": {},
   "source": [
    "# Python Week 6"
   ]
  },
  {
   "cell_type": "code",
   "execution_count": 25,
   "id": "cc91615a",
   "metadata": {},
   "outputs": [
    {
     "name": "stdout",
     "output_type": "stream",
     "text": [
      "True\n",
      "False\n",
      "False\n",
      "True\n"
     ]
    }
   ],
   "source": [
    "#Create a function that returns True when num1 is equal to num2; otherwise return False\n",
    "\n",
    "def compare_number(num1,num2):\n",
    "    return num1==num2\n",
    "\n",
    "print(compare_number(4,4))\n",
    "print(compare_number(1,-1))\n",
    "print(compare_number(7,'7'))\n",
    "print(compare_number(9,9.00))"
   ]
  },
  {
   "cell_type": "markdown",
   "id": "d4cfbdb4",
   "metadata": {},
   "source": [
    "# Python Week 7"
   ]
  },
  {
   "cell_type": "code",
   "execution_count": 29,
   "id": "cd099578",
   "metadata": {},
   "outputs": [
    {
     "name": "stdout",
     "output_type": "stream",
     "text": [
      "65700\n",
      "62600\n"
     ]
    }
   ],
   "source": [
    "# Problem: Create a function that takes a list of dictionaries and returns the sum of people’s budgets.\n",
    "# Examples:\n",
    "# get_budgets([\n",
    "# { \"name\": \"John\", \"age\": 21, \"budget\": 23000 },\n",
    "# { \"name\": \"Steve\", \"age\": 32, \"budget\": 40000 },\n",
    "# { \"name\": \"Martin\", \"age\": 16, \"budget\": 2700 }\n",
    "# ]) ➞ 65700\n",
    "\n",
    "# get_budgets([\n",
    "# { \"name\": \"John\", \"age\": 21, \"budget\": 29000 },\n",
    "# { \"name\": \"Steve\", \"age\": 32, \"budget\": 32000 },\n",
    "# { \"name\": \"Martin\", \"age\": 16, \"budget\": 1600 }\n",
    "# ]) ➞ 62600\n",
    "\n",
    "def get_budgets(budget_list):\n",
    "    sum=0\n",
    "    for i in budget_list:\n",
    "        #print(i)\n",
    "        sum+=i['budget']\n",
    "        \n",
    "    return sum\n",
    "\n",
    "print(get_budgets([{ \"name\": \"John\", \"age\": 21, \"budget\": 23000 },{ \"name\": \"Steve\", \"age\": 32, \"budget\": 40000 },{ \"name\": \"Martin\", \"age\": 16, \"budget\": 2700 }]))\n",
    "print(get_budgets([{ \"name\": \"John\", \"age\": 21, \"budget\": 29000 },{ \"name\": \"Steve\", \"age\": 32, \"budget\": 32000 },{ \"name\": \"Martin\", \"age\": 16, \"budget\": 1600 }]))"
   ]
  },
  {
   "cell_type": "markdown",
   "id": "82bca847",
   "metadata": {},
   "source": [
    "# Python Week 8"
   ]
  },
  {
   "cell_type": "code",
   "execution_count": 38,
   "id": "69bdc241",
   "metadata": {},
   "outputs": [
    {
     "name": "stdout",
     "output_type": "stream",
     "text": [
      "False\n",
      "True\n"
     ]
    }
   ],
   "source": [
    "#Problem: Create a function that takes in a string as an input. If the string starts with a vowel, return True. If not, return False.\n",
    "def string_start_vowel(s):\n",
    "    s=s.lower()\n",
    "    return s.startswith('a') or s.startswith('e') or s.startswith('i') or s.startswith('o') or s.startswith('u')\n",
    "\n",
    "print(string_start_vowel('surya'))\n",
    "print(string_start_vowel('Anmol'))"
   ]
  },
  {
   "cell_type": "markdown",
   "id": "a0a4146d",
   "metadata": {},
   "source": [
    "# Python Week 9"
   ]
  },
  {
   "cell_type": "code",
   "execution_count": 39,
   "id": "8e5d279f",
   "metadata": {},
   "outputs": [
    {
     "name": "stdout",
     "output_type": "stream",
     "text": [
      "Hello\n",
      "World\n",
      "Again\n"
     ]
    }
   ],
   "source": [
    "#Problem: Create a function that takes a string as input and capitalizes the string.\n",
    "\n",
    "def captilize_string(s):\n",
    "    return s.capitalize()\n",
    "\n",
    "print(captilize_string('hello'))\n",
    "print(captilize_string('wORld'))\n",
    "print(captilize_string('Again'))"
   ]
  },
  {
   "cell_type": "markdown",
   "id": "ad8dea09",
   "metadata": {},
   "source": [
    "# Python Week 10"
   ]
  },
  {
   "cell_type": "code",
   "execution_count": 40,
   "id": "68ab388c",
   "metadata": {},
   "outputs": [
    {
     "name": "stdout",
     "output_type": "stream",
     "text": [
      "Hello how are you?\n",
      "What’s your name?\n"
     ]
    }
   ],
   "source": [
    "#Problem: Create a function that takes a list of strings as input. Join each string in the list to create and return one complete string. Each word should have a space between them.\n",
    "\n",
    "def join_strings(l):\n",
    "    return ' '.join(l)\n",
    "\n",
    "print(join_strings(['Hello', 'how', 'are', 'you?']))\n",
    "print(join_strings([\"What’s\", 'your', 'name?']))"
   ]
  },
  {
   "cell_type": "code",
   "execution_count": 56,
   "id": "821e21d9",
   "metadata": {
    "scrolled": false
   },
   "outputs": [
    {
     "name": "stdout",
     "output_type": "stream",
     "text": [
      "[1, 2]\n",
      "[1, 0, 15]\n",
      "[1, 2, 123]\n"
     ]
    }
   ],
   "source": [
    "#Problem: Create a function that takes a list of non-negative integers and strings and return a new list without the strings.\n",
    "l=[1, 2, \"a\", \"b\"]\n",
    "filter_list=lambda e:isinstance(e,int)\n",
    "new_list=list(filter(x,l))\n",
    "print(new_list)\n",
    "\n",
    "l=[1, \"a\", \"b\", 0, 15]\n",
    "new_list=list(filter(x,l))\n",
    "print(new_list)\n",
    "\n",
    "l=[1, 2, \"aasf\", \"1\", \"123\", 123]\n",
    "new_list=list(filter(x,l))\n",
    "print(new_list)"
   ]
  },
  {
   "cell_type": "markdown",
   "id": "c433c648",
   "metadata": {},
   "source": [
    "# Python 15"
   ]
  },
  {
   "cell_type": "code",
   "execution_count": 60,
   "id": "6094199e",
   "metadata": {},
   "outputs": [
    {
     "name": "stdout",
     "output_type": "stream",
     "text": [
      "[1, 3, 5]\n",
      "[1, 3, 4, 6]\n",
      "[]\n",
      "[0, 1, 2, 3, 4, 5]\n",
      "[1]\n"
     ]
    }
   ],
   "source": [
    "#Create a function that takes a single string as argument and returns an ordered list containing the indices of all capital letters in the string.\n",
    "\n",
    "def index_of_caps(s):\n",
    "    indices=[]\n",
    "    for i in range(len(s)):\n",
    "        if ord(s[i])>=65 and ord(s[i])<=90:\n",
    "            indices.append(i)\n",
    "    \n",
    "    return indices\n",
    "\n",
    "print(index_of_caps('eDaBiT'))\n",
    "print(index_of_caps('eQuINoX'))\n",
    "print(index_of_caps('determine'))\n",
    "print(index_of_caps('STRIKE'))\n",
    "print(index_of_caps('sUn'))"
   ]
  },
  {
   "cell_type": "markdown",
   "id": "b6fe37ee",
   "metadata": {},
   "source": [
    "# Python 16"
   ]
  },
  {
   "cell_type": "code",
   "execution_count": 64,
   "id": "de1171d5",
   "metadata": {},
   "outputs": [
    {
     "name": "stdout",
     "output_type": "stream",
     "text": [
      "['E', 'T', 'M']\n"
     ]
    }
   ],
   "source": [
    "#Problem 1: Given a list [“Elie”, “Tim”, “Matt”], create a variable called answer, which is a new list containing the first letter of each name in the list.\n",
    "l=['Elie', 'Tim', 'Matt']\n",
    "new_list=list(map(lambda x:x[0],l))\n",
    "print(new_list)"
   ]
  },
  {
   "cell_type": "code",
   "execution_count": 68,
   "id": "6f532fcc",
   "metadata": {
    "scrolled": true
   },
   "outputs": [
    {
     "name": "stdout",
     "output_type": "stream",
     "text": [
      "1 4 3 7 9 13 17 12 20\n",
      "[4, 12, 20]\n"
     ]
    }
   ],
   "source": [
    "#Problem 2: Given a list [1,2,3,4,5,6], create a new variable called answer2, which is a new list of all the even values.\n",
    "l=list(map(int,input().split()))\n",
    "even=list(filter(lambda x:x%2==0,l))\n",
    "print(even)"
   ]
  },
  {
   "cell_type": "markdown",
   "id": "07ceb1dc",
   "metadata": {},
   "source": [
    "# Python 17"
   ]
  },
  {
   "cell_type": "code",
   "execution_count": 74,
   "id": "ae67fe7d",
   "metadata": {
    "scrolled": true
   },
   "outputs": [
    {
     "name": "stdout",
     "output_type": "stream",
     "text": [
      "True\n",
      "False\n",
      "False\n",
      "False\n"
     ]
    }
   ],
   "source": [
    "# ATM machines allow 4 or 6 digit PIN codes and PIN codes cannot contain anything but exactly 4 digits or exactly 6 digits. Your task is to create a function that takes a string and returns True if the PIN is valid and False if it’s not.\n",
    "\n",
    "def is_valid_PIN(s):\n",
    "    if len(s)!=4 and len(s)!=6:\n",
    "        return False\n",
    "    else:\n",
    "        if s.isdigit():\n",
    "            return True\n",
    "        else:\n",
    "            return False\n",
    "        \n",
    "print(is_valid_PIN('1234'))\n",
    "print(is_valid_PIN('12345'))\n",
    "print(is_valid_PIN('a234'))\n",
    "print(is_valid_PIN(''))"
   ]
  },
  {
   "cell_type": "markdown",
   "id": "cdb82f8a",
   "metadata": {},
   "source": [
    "# Python 18"
   ]
  },
  {
   "cell_type": "code",
   "execution_count": 4,
   "id": "f09d2d18",
   "metadata": {
    "scrolled": true
   },
   "outputs": [
    {
     "name": "stdout",
     "output_type": "stream",
     "text": [
      "['gotham.com', 'springfieldnuclear.com', 'arlenpropane.com', 'pawtucketbrewery.com', 'gmail.com', 'yahoo.com', 'outlook.com']\n"
     ]
    }
   ],
   "source": [
    "#Problem: Given a list of client emails, create a function that takes in the list as an argument and returns a new list with only the domain of each email. This was inspired by an actual problem I did at work recently.\n",
    "\n",
    "def get_domain(clients):\n",
    "    domain=[]\n",
    "    for i in clients:\n",
    "        domain.append(i.split('@')[1])\n",
    "    return domain\n",
    "\n",
    "clients = ['brucewayne@gotham.com', 'homer_simpson@springfieldnuclear.com', 'hank_hill@arlenpropane.com','petergriffin@pawtucketbrewery.com',\n",
    "          'sp430661@gmail.com','suryacs@yahoo.com','anomol12@outlook.com']\n",
    "print(get_domain(clients))"
   ]
  },
  {
   "cell_type": "markdown",
   "id": "51e78bec",
   "metadata": {},
   "source": [
    "# Python Week 19"
   ]
  },
  {
   "cell_type": "code",
   "execution_count": 6,
   "id": "ff0b3fda",
   "metadata": {},
   "outputs": [
    {
     "name": "stdout",
     "output_type": "stream",
     "text": [
      "190009\n",
      "6\n"
     ]
    }
   ],
   "source": [
    "#Problem: Create a function that takes a number num and returns its length.\n",
    "n=int(input())\n",
    "print(len(str(n)))\n"
   ]
  },
  {
   "cell_type": "markdown",
   "id": "de3ffa89",
   "metadata": {},
   "source": [
    "# Python Week 20"
   ]
  },
  {
   "cell_type": "code",
   "execution_count": 9,
   "id": "b760aa86",
   "metadata": {},
   "outputs": [
    {
     "name": "stdout",
     "output_type": "stream",
     "text": [
      "First is greater\n",
      "Second is greater\n",
      "Numbers are equal\n"
     ]
    }
   ],
   "source": [
    "#Write a function called number_compare. This function takes in two parameters (both numbers). \n",
    "#If the first is greater than the second, this function returns “First is greater” If the second number is greater \n",
    "#than the first, the function returns “Second is greater” Otherwise the function returns “Numbers are equal”\n",
    "\n",
    "def number_compare(a,b):\n",
    "    if a>b: \n",
    "        return \"First is greater\" \n",
    "    elif a<b:\n",
    "        return \"Second is greater\" \n",
    "    else:\n",
    "        return \"Numbers are equal\"\n",
    "\n",
    "print(number_compare(4,2))\n",
    "print(number_compare(23,24))\n",
    "print(number_compare(5,5))"
   ]
  },
  {
   "cell_type": "code",
   "execution_count": null,
   "id": "33e6f88f",
   "metadata": {},
   "outputs": [],
   "source": []
  }
 ],
 "metadata": {
  "kernelspec": {
   "display_name": "Python 3 (ipykernel)",
   "language": "python",
   "name": "python3"
  },
  "language_info": {
   "codemirror_mode": {
    "name": "ipython",
    "version": 3
   },
   "file_extension": ".py",
   "mimetype": "text/x-python",
   "name": "python",
   "nbconvert_exporter": "python",
   "pygments_lexer": "ipython3",
   "version": "3.10.2"
  }
 },
 "nbformat": 4,
 "nbformat_minor": 5
}
